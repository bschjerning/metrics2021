{
 "cells": [
  {
   "cell_type": "markdown",
   "metadata": {
    "slideshow": {
     "slide_type": "slide"
    }
   },
   "source": [
    "#  Corner solution responses\n",
    "\n",
    "### Econometrics B (ØkB)\n",
    "\n",
    "(Wooldridge Ch. 18)\n",
    "\n",
    "Bertel Schjerning\n",
    "\n",
    "Department of Economics, University of Copenhagen\n"
   ]
  },
  {
   "cell_type": "markdown",
   "metadata": {
    "slideshow": {
     "slide_type": "slide"
    }
   },
   "source": [
    "# Introduction"
   ]
  },
  {
   "cell_type": "markdown",
   "metadata": {
    "slideshow": {
     "slide_type": "slide"
    }
   },
   "source": [
    "## Corner Solution Models and Censored Regression\n",
    "- Models explaining a continuous random variable with **probability mass a certain points**\n",
    "- **Two fundamentally different types of truncation**\n",
    "\t1. Data censoring (ch 19)\n",
    "\t2. Corner Solutions (ch 18)\n",
    "\n",
    "- Both cases are often modeled with the Tobit model - the main topic of today. \n",
    "\n",
    "- **Sample selection** (next topic) \n",
    "    - Example: When modeling earnings for self-employed, profits is only observed for self-employed \n",
    "    - often appears as similar type of **truncation**, but where we do not observe a truncated value - but entirely loose the observation \n",
    "    "
   ]
  },
  {
   "cell_type": "markdown",
   "metadata": {
    "slideshow": {
     "slide_type": "slide"
    }
   },
   "source": [
    "## Example of data censoring: Top coding of wealth\n",
    "\n",
    "**Top-coding of wealth above threshold**\n",
    "\n",
    "\\begin{eqnarray*}\n",
    "y^{\\ast } &:&\\text{wealth - unobserved} \\\\\n",
    "y &=&\\min \\left( y^{\\ast },a\\right) \\text{ - observed}\n",
    "\\end{eqnarray*}\n",
    "\n",
    "<img src=\"img/wealth_dist.png\" alt=\"top coding of wealth\" style=\"width: 600px;\"/>\n",
    "\n",
    "**$y$ is censored because of recording mechanism - not because of behavior**"
   ]
  },
  {
   "cell_type": "markdown",
   "metadata": {
    "slideshow": {
     "slide_type": "slide"
    }
   },
   "source": [
    "## Example of corner solution: Demand\n",
    "<table><tr>\n",
    "    <td><img src=\"img/demand.png\" alt=\"Demand\" style=\"width: 600px;\"><td>\n",
    "    <td><img src=\"img/demand_dist.png\" alt=\"Distribution of demand\" style=\"width: 600px;\"/><td>\n",
    "</tr></table>\n",
    "\n",
    "- Heterogeneity in income, prices and preferences $\\rightarrow$ heterogeneity in demand\n",
    "\n",
    "- Some combinations of income, prices and preferences $\\rightarrow$  consumer chooses to consume zero of the good of interest\n",
    "- Continuous distribution with mass point at $y=0$"
   ]
  },
  {
   "cell_type": "markdown",
   "metadata": {
    "slideshow": {
     "slide_type": "slide"
    }
   },
   "source": [
    "### Corner Solution Examples: Data with mass points\n",
    "\n",
    "**Textbook examples**\n",
    "- Demand/Consumption (must be positive)\n",
    "- Hours worked (must be positive)\n",
    "- House valuation (must be positive)\n",
    "- Firm exports (fixed costs of exporting -> corner solution)\n",
    "- Charitable contributions (non negative)\n",
    "\n",
    "Example from my own research on **taxation of self-employed**:\n",
    "- Tax-system is piecewise linear kinks in the budget set for tax-payers (e.g. at to the middle and top-tax thresholds) \n",
    "- We should expect mass points at these kinks\n"
   ]
  },
  {
   "cell_type": "markdown",
   "metadata": {
    "slideshow": {
     "slide_type": "slide"
    }
   },
   "source": [
    "### Example of corner solution outcome:  Self-employed and income shifting\n",
    "\n",
    "![](img/leMaireSchjerning.png)\n",
    "Empirical distribution of personal income of workers (left panel) and self-employed (right panel) in 2009. \n",
    "\n",
    "*Source: Le Maire & Schjerning, 'Tax bunching, income shifting and self-employment', Journal of Public Economics 2013* [[web link]](http://dx.doi.org/10.1016/j.jpubeco.2013.08.002).\n",
    "\n",
    "- **Corner solution:** Bunching at the top tax rate cutoff.\n",
    "- **Corner solution outcome model** can be used in this case."
   ]
  },
  {
   "cell_type": "markdown",
   "metadata": {
    "slideshow": {
     "slide_type": "slide"
    }
   },
   "source": [
    "### Need some libraries"
   ]
  },
  {
   "cell_type": "code",
   "execution_count": 1,
   "metadata": {
    "scrolled": true
   },
   "outputs": [],
   "source": [
    "%reset -f\n",
    "%load_ext autoreload\n",
    "%autoreload 2\n",
    "import numpy as np \n",
    "from numpy import random\n",
    "import matplotlib.pyplot as plt\n",
    "\n",
    "# collection of functions used for this lecture on censored regression corner solution outcome models \n",
    "from tobit import * "
   ]
  },
  {
   "cell_type": "markdown",
   "metadata": {
    "slideshow": {
     "slide_type": "slide"
    }
   },
   "source": [
    "### Illustration:  Simulated data and observed frequencies"
   ]
  },
  {
   "cell_type": "code",
   "execution_count": 2,
   "metadata": {
    "scrolled": true,
    "slideshow": {
     "slide_type": "-"
    }
   },
   "outputs": [
    {
     "data": {
      "image/png": "[encoded data removed]",
      "text/plain": [
       "<Figure size 720x432 with 2 Axes>"
      ]
     },
     "metadata": {
      "needs_background": "light"
     },
     "output_type": "display_data"
    }
   ],
   "source": [
    "# generate data and plot distribution \n",
    "from tobit import * \n",
    "y, ys, x, u = sim_data(10000, beta=[1,1], sigma=.5)   # change beta to change amount of truncaton\n",
    "x1=x[:,1].reshape(-1,1)\n",
    "fig, (ax1, ax2) = plt.subplots(1, 2,figsize=(10,6)) \n",
    "fig.suptitle('Observerved outcome')\n",
    "ax1.hist(y, bins = 50)\n",
    "ax2.scatter(x1[y>0], y[y>0])\n",
    "ax2.scatter(x1[y==0], y[y==0])\n",
    "plt.show()"
   ]
  },
  {
   "cell_type": "markdown",
   "metadata": {
    "slideshow": {
     "slide_type": "slide"
    }
   },
   "source": [
    "# The tobit model"
   ]
  },
  {
   "cell_type": "markdown",
   "metadata": {
    "slideshow": {
     "slide_type": "slide"
    }
   },
   "source": [
    "## The tobit model\n",
    "- Introduced by **James Tobin (1958)**.\n",
    "- Underlying **latent variable model**:\n",
    "$$y_i^\\star = x_i\\beta + \\varepsilon_i\n",
    "\\qquad\\qquad \\varepsilon_i \\sim \\mathcal{N}(0, \\sigma^2)$$\n",
    "- **Observational rule**:\n",
    "$$y_i = \\begin{cases}\n",
    "0 & \\text{if $y_i^\\star \\leq 0$} \\\\\n",
    "y_i^\\star & \\text{if $y_i^\\star > 0$} \\\\\n",
    "\\end{cases}$$\n",
    "- Alternative specification (equivalent):\n",
    "$$y_i = \\max\\{0, y_i^\\star\\}$$"
   ]
  },
  {
   "cell_type": "markdown",
   "metadata": {
    "slideshow": {
     "slide_type": "slide"
    }
   },
   "source": [
    "### Illustration: OLS observed ($y$) vs. latent ($y^\\star$) vs. truncated ($y > 0$ only)"
   ]
  },
  {
   "cell_type": "code",
   "execution_count": 8,
   "metadata": {
    "scrolled": true,
    "slideshow": {
     "slide_type": "-"
    }
   },
   "outputs": [
    {
     "data": {
      "image/png": "[encoded data removed]",
      "text/plain": [
       "<Figure size 720x576 with 1 Axes>"
      ]
     },
     "metadata": {
      "needs_background": "light"
     },
     "output_type": "display_data"
    }
   ],
   "source": [
    "from tobit import * \n",
    "y, ys, x, u = sim_data(1000, beta=[0,1], sigma=0.5) # change parameters to change amount of truncation \n",
    "# scatter_ols(x,y) # scatter with regrssion line using only observed data\n",
    "scatter_ols(x,y, ys) # add regrssion line using unobserved latent variable"
   ]
  },
  {
   "cell_type": "markdown",
   "metadata": {
    "slideshow": {
     "slide_type": "slide"
    }
   },
   "source": [
    "# Maximum likelihood estimation"
   ]
  },
  {
   "cell_type": "markdown",
   "metadata": {
    "slideshow": {
     "slide_type": "slide"
    }
   },
   "source": [
    "## Deriving the (log-)likelihood function\n",
    "- The observational rule provides two cases:\n",
    "$$f(y_i \\mid x_i) = \\begin{cases}\n",
    "f_0(y_i \\mid x_i) & \\text{if $y_i = 0$} \\\\\n",
    "f_1(y_i \\mid x_i) & \\text{if $y_i > 0$} \\\\\n",
    "\\end{cases}$$\n",
    "- The **density function** can be condensed as:\n",
    "$$f(y_i \\mid x_i) = \n",
    "f_0(y_i \\mid x_i)^{\\mathbb{1}(y_i=0)}f_1(y_i \\mid x_i)^{\\mathbb{1}(y_i>0)}$$\n",
    "where $\\mathbb{1}(Z)$ is the **indicator function**, equal to 1 if $Z$ is true, \n",
    "to 0 otherwise.\n",
    "- Splitting the density function in two parts is similar to what we did for\n",
    "binary response models.\n",
    "- **What are the expressions of $f_0(\\cdot)$ and $f_1(\\cdot)$?**"
   ]
  },
  {
   "cell_type": "markdown",
   "metadata": {
    "slideshow": {
     "slide_type": "slide"
    }
   },
   "source": [
    "## Deriving the (log-)likelihood function (cont'd)\n",
    "\n",
    " **Case $y_i = 0$ (mass point at 0)**\n",
    "$$f_0(y_i \\mid x_i) \n",
    "\\equiv P(y_i = 0 \\mid x_i)\n",
    "= P(y^\\star_i \\leq 0 \\mid x_i)\n",
    "= 1 - \\Phi\\left(\\frac{x_i\\beta}{\\sigma}\\right)$$\n",
    "where $\\Phi(\\cdot)$ is the CDF of the standard normal distribution.\n",
    "\n",
    "This is identical to the zero case in binary response models ($y_i^\\star \\leq 0$)\n",
    "\n",
    "\n",
    " **Case $y_i > 0$**\n",
    "$$f_1(y_i \\mid x_i) \\equiv \n",
    "\\frac{1}{\\sigma}\\phi\\left(\\frac{y_i-x_i\\beta}{\\sigma}\\right)$$\n",
    "where $\\phi(\\cdot)$ is the PDF of the standard normal distribution.\n",
    "\n",
    " **Putting the parts together**\n",
    "$$f(y_i \\mid x_i) = \n",
    "\\left[1 - \\Phi\\left(\\frac{x_i\\beta}{\\sigma}\\right)\\right]^{\\mathbb{1}(y_i=0}\n",
    "\\left[\\frac{1}{\\sigma}\n",
    "  \\phi\\left(\\frac{y_i-x_i\\beta}{\\sigma}\\right)\\right]^{\\mathbb{1}(y_i>0)}$$"
   ]
  },
  {
   "cell_type": "markdown",
   "metadata": {
    "slideshow": {
     "slide_type": "slide"
    }
   },
   "source": [
    "## Deriving the (log-)likelihood function (cont'd)\n",
    "\n",
    "### Log-likelihood function for $\\theta = (\\beta, \\sigma)$ .. or $\\theta = (\\beta, \\sigma^2)$\n",
    "- **Individual contribution:**\n",
    "$$\\mathcal{L}_i(\\theta) =\n",
    "\\mathbb{1}(y_i=0)\\ln\\left(1 - \\Phi\\left(\\frac{x_i\\beta}{\\sigma}\\right)\\right) +\n",
    "\\mathbb{1}(y_i>0)\\ln\\left(\\dfrac{1}{\\sigma}\n",
    "  \\phi\\left(\\dfrac{y_i-x_i\\beta}{\\sigma}\\right)\\right)$$\n",
    "  \n",
    "- where the second term can be simplified as:\n",
    "$$\\ln\\left(\\dfrac{1}{\\sigma}\n",
    "  \\phi\\left(\\dfrac{y_i-x_i\\beta}{\\sigma}\\right)\\right)\n",
    "  = - \\frac{1}{2}\\ln(2\\pi) - \\frac{1}{2}\\ln\\sigma^2  - \n",
    "    \\frac{(y_i-x_i\\beta)^2}{2\\sigma^2}$$\n",
    "\n",
    "- **Sample objective to be minimized** negative of sample average of log-likelihood\n",
    "(as usual we assume *random sampling* of the observations):\n",
    "$$Q_N(\\theta) = - N^{-1}\\sum_{i=1}^N \\mathcal{L}_i(\\theta)$$"
   ]
  },
  {
   "cell_type": "markdown",
   "metadata": {
    "slideshow": {
     "slide_type": "slide"
    }
   },
   "source": [
    "### Python implementation of sample objective $Q_N(\\theta) = - N^{-1}\\sum_{i=1}^N \\mathcal{L}_i(\\theta)$"
   ]
  },
  {
   "cell_type": "code",
   "execution_count": null,
   "metadata": {
    "scrolled": true,
    "slideshow": {
     "slide_type": "-"
    }
   },
   "outputs": [],
   "source": [
    "def Q_tobit(theta, y, x, out='Q'): # sample objective function and derivatives for tobit\n",
    "    N, K = x.shape \n",
    "    theta=np.array(theta).reshape(K+1,1)\n",
    "    beta=theta[:-1,:]\n",
    "    sigma=theta[-1,:]\n",
    "    Phi_i=norm.cdf(x@beta/sigma)\n",
    "    Phi_i=np.minimum(np.maximum(Phi_i,1e-15),1-1e-15) \n",
    "\n",
    "    ll_i = 1*(y == 0)*np.log(1-Phi_i)  -  1*(y > 0)*((y-x@beta)**2/(2*sigma**2) + np.log(sigma**2)/2)\n",
    "    if out=='Q': return -np.mean(ll_i)\n",
    "\n",
    "    s_i=s_i_tobit(beta, sigma, y, x, Phi_i) # computes NxK array with scores \n",
    "    if out=='s_i': return s_i  # Return s_i\n",
    "    if out=='dQ':  return -np.mean(s_i, axis=0);  # Return dQ: array of size K derivative of Q"
   ]
  },
  {
   "cell_type": "markdown",
   "metadata": {
    "slideshow": {
     "slide_type": "slide"
    }
   },
   "source": [
    "## Score and first-order conditions\n",
    "\n",
    "- The **score** is derived separately for $\\beta$ and $\\sigma^2$:\n",
    "\n",
    "$$\\frac{\\partial\\mathcal{L}_i(\\theta)}{\\partial\\beta} = \n",
    "  \\frac{1}{\\sigma^2}\\left[\\mathbb{1}(y_i>0)(y_i-x_i\\beta) -\n",
    "  \\mathbb{1}(y_i=0)\\frac{\\sigma\\phi_i}{1-\\Phi_i}\n",
    "  \\right] x_i$$\n",
    "$$\\frac{\\partial\\mathcal{L}_i(\\theta)}{\\partial\\sigma} = \n",
    "  \\left[\n",
    "    \\mathbb{1}(y_i>0)\\left( -\n",
    "      \\frac{1}{1\\sigma} + \\frac{(y_i-x_i\\beta)^2}{\\sigma^3}\n",
    "                \\right) +\n",
    "  \\mathbb{1}(y_i=0)\\frac{\\phi_i}{1-\\Phi_i}x_i\\beta/\\sigma^2\n",
    "  \\right]$$\n",
    "- where:\n",
    "    - $\\phi_i \\equiv \\phi\\left(x_i\\beta/\\sigma\\right)$\n",
    "    - $\\Phi_i \\equiv \\Phi\\left(x_i\\beta/\\sigma\\right)$\n",
    "    - $\\partial\\Phi(z)/\\partial z = \\phi(z)$ (relationship between CDF and PDF)\n",
    "\n",
    "- **FOCs** impossible to solve analytically: **Numerical methods** are required."
   ]
  },
  {
   "cell_type": "markdown",
   "metadata": {
    "slideshow": {
     "slide_type": "slide"
    }
   },
   "source": [
    "### Python implementation of scores $\\partial\\mathcal{L}_i(\\theta)/\\partial\\theta$"
   ]
  },
  {
   "cell_type": "code",
   "execution_count": null,
   "metadata": {
    "scrolled": true,
    "slideshow": {
     "slide_type": "-"
    }
   },
   "outputs": [],
   "source": [
    "def s_i_tobit(beta, sigma, y, x, Phi_i): \n",
    "    # derivatives \n",
    "    phi_i=norm.pdf(x@beta/sigma)\n",
    "    phi_i=np.minimum(np.maximum(phi_i,1e-15),1-1e-15) \n",
    "    s_i_beta= 1/sigma**2*((y > 0)*(y-x@beta) - 1*(y == 0)*sigma*phi_i/(1-Phi_i))*x \n",
    "    s_i_sigma =  1*(y == 0)/(1-Phi_i)*phi_i*x@beta/(sigma**2) \n",
    "    s_i_sigma =  1*(y == 0)*phi_i/(1-Phi_i)*x@beta/(sigma**2) \n",
    "    s_i_sigma += 1*(y > 0)*((y-x@beta)**2/(sigma**3) -1/(sigma))\n",
    "    s_i=np.append(s_i_beta, s_i_sigma.reshape(-1,1),  axis=1)\n",
    "    return s_i"
   ]
  },
  {
   "cell_type": "markdown",
   "metadata": {
    "slideshow": {
     "slide_type": "slide"
    }
   },
   "source": [
    "### Estimation"
   ]
  },
  {
   "cell_type": "code",
   "execution_count": 11,
   "metadata": {
    "scrolled": true,
    "slideshow": {
     "slide_type": "-"
    }
   },
   "outputs": [
    {
     "name": "stdout",
     "output_type": "stream",
     "text": [
      "Tobit model\n",
      "Fractions of observations that are censored:  0.8817\n",
      "Initial log-likelihood -1.0964441642560863\n",
      "Initial gradient\n",
      " [-1.91931323  0.53362301 -0.49386272  2.80044003]\n",
      "Dep. var. : y \n",
      "\n",
      "parnames      theta_hat          se    t-values         jac\n",
      "----------  -----------  ----------  ----------  ----------\n",
      "x0             -2.08578     0.05276   -39.53327     0.00000\n",
      "x1              1.04206     0.02038    51.12121    -0.00001\n",
      "x2             -1.05666     0.02904   -36.38851    -0.00001\n",
      "sigma           1.01956     0.02236    45.59180     0.00001\n",
      "# of observations : 10000\n",
      "# log-likelihood. : -1804.9654825014056 \n",
      "\n",
      "Iteration info: 17 iterations, 19 evaluations of objective, and 19 evaluations of gradients\n",
      "Elapsed time: 0.0890 seconds\n",
      "\n"
     ]
    }
   ],
   "source": [
    "from tobit import * \n",
    "y, ys, x, u = sim_data(10000, beta=[-2,1,-1], sigma=1) # change parameters to change amount of truncation \n",
    "res=tobit(y,x, deriv=1);"
   ]
  },
  {
   "cell_type": "markdown",
   "metadata": {
    "slideshow": {
     "slide_type": "slide"
    }
   },
   "source": [
    "### Identification\n",
    "\n",
    "- Is $\\sigma^2$ **identifiable**? *[in probit it is not!]*\n",
    "- Can you think of examples where **identification might break down**?"
   ]
  },
  {
   "cell_type": "code",
   "execution_count": 15,
   "metadata": {
    "scrolled": true,
    "slideshow": {
     "slide_type": "-"
    }
   },
   "outputs": [
    {
     "name": "stdout",
     "output_type": "stream",
     "text": [
      "Tobit model\n",
      "Fractions of observations that are censored:  0.9979\n",
      "Initial log-likelihood -1.2121084005449698\n",
      "Initial gradient\n",
      " [-22.88662193   1.4504968   -1.0011168   29.87420467]\n",
      "Dep. var. : y \n",
      "\n",
      "parnames      theta_hat          se    t-values         jac\n",
      "----------  -----------  ----------  ----------  ----------\n",
      "x0             -5.87118     1.15367    -5.08911    -0.00000\n",
      "x1              1.33198     0.27954     4.76489    -0.00000\n",
      "x2             -1.00474     0.21457    -4.68248    -0.00000\n",
      "sigma           1.19175     0.23155     5.14677    -0.00000\n",
      "# of observations : 10000\n",
      "# log-likelihood. : -64.39819095398057 \n",
      "\n",
      "Iteration info: 43 iterations, 46 evaluations of objective, and 46 evaluations of gradients\n",
      "Elapsed time: 0.1860 seconds\n",
      "\n"
     ]
    }
   ],
   "source": [
    "y, ys, x, u= sim_data(10000, beta=[-5,1,-1], sigma=1) # change parameters to change amount of truncation \n",
    "res=tobit(y,x, deriv=1);"
   ]
  },
  {
   "cell_type": "markdown",
   "metadata": {
    "slideshow": {
     "slide_type": "slide"
    }
   },
   "source": [
    "# Quantities of Interest: Conditional means and marginal effects"
   ]
  },
  {
   "cell_type": "markdown",
   "metadata": {
    "slideshow": {
     "slide_type": "slide"
    }
   },
   "source": [
    "## Conditional means\n",
    "Quantities of Interest depends on the type of problem we consider\n",
    "\n",
    "**Data censoring:**\n",
    "\\begin{equation*}\n",
    "E\\left( y^{\\ast }|x\\right) =x\\beta \n",
    "\\end{equation*}\n",
    "\n",
    "**Corner Solutions**\n",
    "\\begin{eqnarray*}\n",
    "&&E\\left( y|x\\right) \\\\\n",
    "&&E\\left( y|x|y>0\\right) \\\\\n",
    "&&P\\left( y=0|x\\right) ,P\\left( y>0|x\\right) \n",
    "\\end{eqnarray*}\n",
    "and the partial effects on these."
   ]
  },
  {
   "cell_type": "markdown",
   "metadata": {
    "slideshow": {
     "slide_type": "slide"
    }
   },
   "source": [
    "## Marginal effects\n",
    "\n",
    "- **Marginal effect:** Effect of a change in the regressors on the conditional\n",
    "mean of the outcome.\n",
    "- **Marginal effects** can be derived and computed for each of the conditional\n",
    "means and probabilities derived above.\n",
    "- Which effect is relevant **depends on your application**.\n",
    "- Always explain *which* marginal effect you are looking at."
   ]
  },
  {
   "cell_type": "markdown",
   "metadata": {
    "slideshow": {
     "slide_type": "slide"
    }
   },
   "source": [
    "## Conditional probability: corner solutions (1/6)\n",
    "$P\\left( y=0|x\\right) $ and $P\\left( y>0|x\\right) $ is easily calculated (same arguments as for probit)\n",
    "\n",
    "\\begin{eqnarray*}\n",
    "P\\left( y>0|x\\right) &=& P\\left( y^{\\ast }>0|x\\right) \\\\\n",
    "&=&P\\left( x\\beta +u>0|x\\right) \\\\\n",
    "&=&\\Phi \\left( \\frac{x^{\\prime }\\beta }{\\sigma }\\right) \\\\\n",
    "P\\left( y=0|x\\right) &=& P\\left( y^{\\ast }\\leq 0|x\\right) \\\\\n",
    "&=&1-\\Phi \\left( \\frac{x^{\\prime }\\beta }{\\sigma }\\right) \n",
    "\\end{eqnarray*}"
   ]
  },
  {
   "cell_type": "markdown",
   "metadata": {
    "slideshow": {
     "slide_type": "slide"
    }
   },
   "source": [
    "## Conditional mean: corner solutions (2/6)\n",
    "Decomposition of Conditional Expectation (By LIE)\n",
    "\\begin{eqnarray*}\n",
    "E\\left( y|x\\right) &=&\\underset{=0}{\\underbrace{E\\left( y|x,y\\leq 0\\right) }}\n",
    "P\\left( y\\leq 0|x\\right) \\\\\n",
    "&&+E\\left( y|x,y>0\\right) P\\left( y>0|x\\right) \\\\\n",
    "&=&E\\left( y|x,y>0\\right) P\\left( y>0|x\\right) \n",
    "\\end{eqnarray*}\n",
    "\n",
    "- Hence we still need to compute\n",
    "\n",
    "\\begin{equation*}\n",
    "E\\left( y|x,y>0\\right)\n",
    "\\end{equation*}"
   ]
  },
  {
   "cell_type": "markdown",
   "metadata": {
    "slideshow": {
     "slide_type": "slide"
    }
   },
   "source": [
    "## Conditional mean  of truncated normal: corner solutions (3/6)\n",
    "Derivation of $E\\left( y|x,y>0\\right) $\n",
    "\n",
    "\\begin{eqnarray*}\n",
    "E\\left( y|x,y>0\\right) &=& E\\left( y^{\\ast }|x,y^{\\ast }>0\\right) \\\\\n",
    "&=&E\\left( x\\beta +u|x,y^{\\ast }>0\\right) \\\\\n",
    "&=&E\\left( x\\beta +u|y^{\\ast }>0\\right)  \\\\\n",
    "&&\\text{due to independence between }u\\text{ and }x \\\\\n",
    "&=&x\\beta +E\\left( u|u>-x\\beta \\right) \n",
    "\\end{eqnarray*}"
   ]
  },
  {
   "cell_type": "markdown",
   "metadata": {
    "slideshow": {
     "slide_type": "slide"
    }
   },
   "source": [
    "## Conditional mean of truncated normal: corner Solutions (4/6)\n",
    "**Digress: Truncated density**\n",
    "\n",
    "\\begin{eqnarray*}\n",
    "f\\left( z|z>c\\right) &=&\\frac{f\\left( z\\right) }{1-F\\left( c\\right) }\\text{ }\\\\\n",
    "\\lbrack \\text{ normalization} &\\Longrightarrow &\\text{Trunc density integrates to 1]}\n",
    "\\end{eqnarray*}\n",
    "\n",
    "Suppose $z\\sim N\\left( 0,1\\right)$\n",
    "\\begin{equation*}\n",
    "f\\left( z|z>c\\right) =\\frac{\\phi \\left( z\\right) }{1-\\Phi \\left( c\\right) }\n",
    "\\end{equation*}\n",
    "\n",
    "Then\n",
    "\\begin{eqnarray*}\n",
    "E\\left[ z|z>c\\right] &=& \\int_{c}^{\\infty }zf\\left( z|z>c\\right) dz\\\\\n",
    "&=&\\int_{c}^{\\infty }z\\frac{\\phi \\left( z\\right) }{1-\\Phi \\left( c\\right) }dz\\\\\n",
    "&=&\\frac{\\phi \\left( c\\right) }{1-\\Phi \\left( c\\right) }\n",
    "\\end{eqnarray*}"
   ]
  },
  {
   "cell_type": "markdown",
   "metadata": {
    "slideshow": {
     "slide_type": "slide"
    }
   },
   "source": [
    "## Conditional mean  of truncated normal: corner solutions (5/6)\n",
    "Using this result we now obtain $E\\left( y|x,y>0\\right)$\n",
    "\\begin{eqnarray*}\n",
    "E\\left( y|x,y>0\\right) &=&\n",
    "x\\beta +\\sigma E\\left( \\frac{u}{\\sigma }|\\frac{u}{\\sigma }>-\\frac{x\\beta }{\\sigma }\\right) \\\\\n",
    "&=&x\\beta +\\sigma \\frac{\\phi \\left( -\\frac{x\\beta }{\\sigma }\\right) }{1-\\Phi \\left( -\\frac{x\\beta }{\\sigma }\\right) } \\\\\n",
    "&=&x\\beta +\\sigma \\frac{\\phi \\left( \\frac{x\\beta }{\\sigma }\\right) }{\\Phi \\left( \\frac{x\\beta }{\\sigma }\\right) }\\\\\n",
    "&=&x\\beta +\\sigma \\underset{\\text{Inverse Mill's ratio}}{\\underbrace{\\lambda \\left( x\\beta /\\sigma \\right) }} \\geq x\\beta \n",
    "\\end{eqnarray*}"
   ]
  },
  {
   "cell_type": "markdown",
   "metadata": {
    "slideshow": {
     "slide_type": "slide"
    }
   },
   "source": [
    "## Conditional mean: Corner Solutions (6/6)\n",
    "\n",
    "**Combining results** we now obtain $E\\left( y|x\\right)$\n",
    "\\begin{eqnarray*}\n",
    "E\\left( y|x\\right) &=& E\\left( y|x,y>0\\right) P\\left( y>0|x\\right) \\\\\n",
    "&=&\\left[ x\\beta +\\sigma \\lambda \\left( \\frac{x\\beta }{\\sigma }\\right) \\right] \n",
    "\\Phi \\left(\\frac{x\\beta }{\\sigma }\\right) \\\\\n",
    "&=&x\\beta \\Phi \\left( \\frac{x\\beta }{\\sigma }\\right)\n",
    "+\\sigma \\phi \\left( \\frac{x\\beta }{\\sigma }\\right) \n",
    "\\end{eqnarray*}\n",
    "\n",
    "**Note:** By the convexity of the $\\max $ operator\n",
    "\\begin{eqnarray*}\n",
    "E\\left( \\max \\left( 0,y^{\\ast }\\right) |x\\right) &\\geq &\\max \\left(0,E\\left( y^{\\ast }|x\\right) \\right) \\\\\n",
    "E\\left( y|x\\right) &\\geq &\\max \\left( 0,x\\beta \\right) \\geq 0\n",
    "\\end{eqnarray*}"
   ]
  },
  {
   "cell_type": "markdown",
   "metadata": {
    "slideshow": {
     "slide_type": "slide"
    }
   },
   "source": [
    "## Quantities of Interest: summarizing results\n",
    "**Data censoring**\n",
    "- $E\\left( y^{\\ast }|x\\right) =x\\beta$ $\\rightarrow$ constant partial effects"
   ]
  },
  {
   "cell_type": "markdown",
   "metadata": {
    "slideshow": {
     "slide_type": "slide"
    }
   },
   "source": [
    "## Quantities of Interest: summarizing results\n",
    "**Corner Solutions (1)**\n",
    "\n",
    "\\begin{eqnarray*}\n",
    "E\\left( y|x\\right) &=&E\\left( y|x,y>0\\right) P\\left( y>0|x\\right) \\\\\n",
    "&=&x\\beta \\Phi \\left( \\frac{x\\beta }{\\sigma }\\right)\n",
    "+\\sigma \\phi \\left( \\frac{x\\beta }{\\sigma }\\right) \\\\\n",
    "E\\left( y|x,y>0\\right) &=&x\\beta +\\sigma \\underset{\\text{Inverse\n",
    "Mill's ratio}}{\\underbrace{\\lambda \\left( x\\beta /\\sigma \\right) }}\\\\\n",
    "P\\left( y>0|x\\right) &=&\\Phi \\left( \\frac{x\\beta }{\\sigma }\\right)\\\\\n",
    "P\\left( y=0|x\\right) &=&1-\\Phi \\left( \\frac{x\\beta }{\\sigma }\\right)\n",
    "\\end{eqnarray*}\n",
    "\n",
    "\n",
    "We can neither use OLS to estimate $E\\left( y|x\\right)$ or $E\\left(y|x,y>0\\right)$"
   ]
  },
  {
   "cell_type": "code",
   "execution_count": 16,
   "metadata": {
    "scrolled": true,
    "slideshow": {
     "slide_type": "slide"
    }
   },
   "outputs": [],
   "source": [
    "def condmean(beta, sigma, y, x):\n",
    "    xb=x@beta                   # E(y*|x)\n",
    "    Phi = norm.cdf(xb/sigma)    # P(y=0|x)\n",
    "    phi = norm.pdf(xb/sigma)    \n",
    "    inv_mills = sigma*phi/Phi   # inverse mills ratio\n",
    "    Ey_trunc= xb + inv_mills    # E[y|x,y>0]\n",
    "    Ey= xb*Phi + sigma*phi      # E[y|x]\n",
    "    return xb, Phi, phi, inv_mills, Ey_trunc, Ey"
   ]
  },
  {
   "cell_type": "markdown",
   "metadata": {
    "slideshow": {
     "slide_type": "slide"
    }
   },
   "source": [
    "## Quantities of interest: summarizing results\n",
    "**Corner Solutions (2)**\n",
    "- $E\\left( y|x\\right)$ can be decomposed in two effects\n",
    "\t- The effect on $y$ for $y>0$ (intensive margin)\n",
    "\t- The effect $y$ due to change in number of $y>0$ (extensive margin)\n",
    "\t- Example: Hours worked\n",
    "\n",
    "- $E\\left( y|x\\right) $ and $E\\left( y|x,y>0\\right) $ are non-linear in $x$ \n",
    "\tand thus partial effects is non-linear and depends on the data\n",
    "\n",
    "- $\\partial E\\left( y|x\\right) /\\partial x_{j}=\\Phi \\left( \\frac{x\\beta }{\\sigma }\\right) \\beta _{j}$\n",
    "\n",
    "- $\\partial E\\left( y|x,y>0\\right) /\\partial x_{j}=\\theta \\left( \\frac{\n",
    "x\\beta }{\\sigma }\\right) \\beta _{j}$, where $\\theta \\left( \\frac{\n",
    "x\\beta }{\\sigma }\\right) \\in \\left[ 0,1\\right]$\n",
    "\n",
    "- $E\\left( y|x\\right) \\rightarrow $ $E\\left( y^{\\ast }|x\\right) $ as \n",
    "$\\frac{x\\beta }{\\sigma }\\rightarrow \\infty$\n",
    "\n",
    "- $E\\left( y|x,y>0\\right) \\rightarrow $ $E\\left( y^{\\ast }|x\\right) $ as \n",
    "$\\frac{x\\beta }{\\sigma }\\rightarrow \\infty$"
   ]
  },
  {
   "cell_type": "markdown",
   "metadata": {
    "slideshow": {
     "slide_type": "slide"
    }
   },
   "source": [
    "## Illustration: Conditional means"
   ]
  },
  {
   "cell_type": "code",
   "execution_count": 21,
   "metadata": {
    "scrolled": true
   },
   "outputs": [
    {
     "data": {
      "image/png": "[encoded data removed]",
      "text/plain": [
       "<Figure size 720x576 with 1 Axes>"
      ]
     },
     "metadata": {
      "needs_background": "light"
     },
     "output_type": "display_data"
    }
   ],
   "source": [
    "from tobit import * \n",
    "N=2000\n",
    "beta=[0,1]\n",
    "sigma=1\n",
    "y, ys, x, u = sim_data(N, beta, sigma) # change parameters to change amount of truncation \n",
    "scatter_condmean(beta, sigma, x,y) # scatter with regrssion line using only observed data"
   ]
  },
  {
   "cell_type": "markdown",
   "metadata": {
    "slideshow": {
     "slide_type": "slide"
    }
   },
   "source": [
    "# Heteroskedasticity and Non-Normality"
   ]
  },
  {
   "cell_type": "markdown",
   "metadata": {
    "slideshow": {
     "slide_type": "slide"
    }
   },
   "source": [
    "## Heteroskedasticity and non-normality\n",
    "\n",
    "- Assume **heteroskedasticity**:\n",
    "$$y_i = \\max\\{0, y_i^\\star\\}\n",
    "\\qquad\\qquad\n",
    "y_i^\\star = x_i\\beta + \\varepsilon_i\n",
    "\\qquad\\qquad\n",
    "\\varepsilon_i \\sim \\mathcal{N}(0,\\sigma^2_i)$$\n",
    "- **Problem:** The expected score will only be zero if $\\sigma^2$ is fixed across observations (*homoskedasticity*).\n",
    "- Hence, $\\widehat{\\beta}_{\\text{ML}}$ is ***not* consistent** in case of **heteroskedasticity**.\n",
    "- **The tobit model heavily relies on normality and homoskedasticity of the\n",
    "errors for consistency of MLE.**\n",
    "- **Solution?** Extend the model to control for heteroskedasticity and do MLE.\n",
    "- **Example:** $$\\sigma^2_i = \\tau^2\\exp\\{z_i\\delta\\}$$\n",
    "- But then you need to make sure the variance of the errors is **well-specified**!"
   ]
  },
  {
   "cell_type": "markdown",
   "metadata": {
    "slideshow": {
     "slide_type": "slide"
    }
   },
   "source": [
    "## Neglegted heteroskedasticity and non-normality: Illustration\n"
   ]
  },
  {
   "cell_type": "code",
   "execution_count": 25,
   "metadata": {
    "scrolled": false
   },
   "outputs": [
    {
     "data": {
      "image/png": "[encoded data removed]",
      "text/plain": [
       "<Figure size 432x288 with 1 Axes>"
      ]
     },
     "metadata": {
      "needs_background": "light"
     },
     "output_type": "display_data"
    },
    {
     "name": "stdout",
     "output_type": "stream",
     "text": [
      "Tobit model\n",
      "Fractions of observations that are censored:  0.0\n",
      "Initial log-likelihood -1.1931389292345158\n",
      "Initial gradient\n",
      " [ 5.17497156e-16 -4.08673095e-17  6.98330282e-18]\n",
      "Dep. var. : y \n",
      "\n",
      "parnames      theta_hat          se    t-values         jac\n",
      "----------  -----------  ----------  ----------  ----------\n",
      "x0              9.99994     0.01414   707.10271    -0.00000\n",
      "x1              1.00808     0.01414    71.28208     0.00000\n",
      "sigma           1.99998     0.01414   141.42019    -0.00000\n",
      "# of observations : 5000\n",
      "# log-likelihood. : -5965.694646172579 \n",
      "\n",
      "Iteration info: 0 iterations, 1 evaluations of objective, and 1 evaluations of gradients\n",
      "Elapsed time: 0.0041 seconds\n",
      "\n"
     ]
    },
    {
     "data": {
      "image/png": "[encoded data removed]",
      "text/plain": [
       "<Figure size 432x288 with 1 Axes>"
      ]
     },
     "metadata": {
      "needs_background": "light"
     },
     "output_type": "display_data"
    },
    {
     "name": "stdout",
     "output_type": "stream",
     "text": [
      "Tobit model\n",
      "Fractions of observations that are censored:  0.0\n",
      "Initial log-likelihood -1.1930921011410556\n",
      "Initial gradient\n",
      " [ 8.75843842e-16 -4.05314671e-17 -1.26121336e-17]\n",
      "Dep. var. : y \n",
      "\n",
      "parnames      theta_hat          se    t-values         jac\n",
      "----------  -----------  ----------  ----------  ----------\n",
      "x0              9.99999     0.01414   707.10590    -0.00000\n",
      "x1              1.02115     0.01414    72.20614     0.00000\n",
      "sigma           1.99989     0.01414   141.41357     0.00000\n",
      "# of observations : 5000\n",
      "# log-likelihood. : -5965.460505705278 \n",
      "\n",
      "Iteration info: 0 iterations, 1 evaluations of objective, and 1 evaluations of gradients\n",
      "Elapsed time: 0.0038 seconds\n",
      "\n"
     ]
    },
    {
     "data": {
      "image/png": "[encoded data removed]",
      "text/plain": [
       "<Figure size 432x288 with 1 Axes>"
      ]
     },
     "metadata": {
      "needs_background": "light"
     },
     "output_type": "display_data"
    },
    {
     "name": "stdout",
     "output_type": "stream",
     "text": [
      "Tobit model\n",
      "Fractions of observations that are censored:  0.0\n",
      "Initial log-likelihood -1.19314438737602\n",
      "Initial gradient\n",
      " [-2.15066853e-16 -1.75881532e-16 -4.65627537e-17]\n",
      "Dep. var. : y \n",
      "\n",
      "parnames      theta_hat          se    t-values         jac\n",
      "----------  -----------  ----------  ----------  ----------\n",
      "x0             10.00004     0.01414   707.10926     0.00000\n",
      "x1              1.00481     0.01414    71.05115     0.00000\n",
      "sigma           1.99999     0.01414   141.42096     0.00000\n",
      "# of observations : 5000\n",
      "# log-likelihood. : -5965.7219368801 \n",
      "\n",
      "Iteration info: 0 iterations, 1 evaluations of objective, and 1 evaluations of gradients\n",
      "Elapsed time: 0.0071 seconds\n",
      "\n"
     ]
    },
    {
     "data": {
      "image/png": "[encoded data removed]",
      "text/plain": [
       "<Figure size 432x288 with 1 Axes>"
      ]
     },
     "metadata": {
      "needs_background": "light"
     },
     "output_type": "display_data"
    },
    {
     "name": "stdout",
     "output_type": "stream",
     "text": [
      "Tobit model\n",
      "Fractions of observations that are censored:  0.0\n",
      "Initial log-likelihood -1.193019259634275\n",
      "Initial gradient\n",
      " [-9.42135259e-17  7.65609798e-17 -5.41899858e-17]\n",
      "Dep. var. : y \n",
      "\n",
      "parnames      theta_hat          se    t-values         jac\n",
      "----------  -----------  ----------  ----------  ----------\n",
      "x0              9.99965     0.01414   707.08214     0.00000\n",
      "x1              0.96765     0.01414    68.42336    -0.00000\n",
      "sigma           1.99974     0.01414   141.40327     0.00000\n",
      "# of observations : 5000\n",
      "# log-likelihood. : -5965.096298171375 \n",
      "\n",
      "Iteration info: 0 iterations, 1 evaluations of objective, and 1 evaluations of gradients\n",
      "Elapsed time: 0.0072 seconds\n",
      "\n"
     ]
    },
    {
     "data": {
      "image/png": "[encoded data removed]",
      "text/plain": [
       "<Figure size 432x288 with 1 Axes>"
      ]
     },
     "metadata": {
      "needs_background": "light"
     },
     "output_type": "display_data"
    },
    {
     "name": "stdout",
     "output_type": "stream",
     "text": [
      "Tobit model\n",
      "Fractions of observations that are censored:  0.0\n",
      "Initial log-likelihood -1.1929004451534853\n",
      "Initial gradient\n",
      " [ 5.88329385e-16 -4.30377955e-17  2.16271445e-17]\n",
      "Dep. var. : y \n",
      "\n",
      "parnames      theta_hat          se    t-values         jac\n",
      "----------  -----------  ----------  ----------  ----------\n",
      "x0              9.99901     0.01414   707.03644    -0.00000\n",
      "x1              0.95538     0.01414    67.55533     0.00000\n",
      "sigma           1.99951     0.01414   141.38647    -0.00000\n",
      "# of observations : 5000\n",
      "# log-likelihood. : -5964.502225767426 \n",
      "\n",
      "Iteration info: 0 iterations, 1 evaluations of objective, and 1 evaluations of gradients\n",
      "Elapsed time: 0.0047 seconds\n",
      "\n"
     ]
    }
   ],
   "source": [
    "from tobit import * \n",
    "N=5000\n",
    "beta=[10,1]\n",
    "sigma=2\n",
    "error_type='het'\n",
    "\n",
    "for error_type in ['normal',  'log-normal', 'uniform', 'mix_sym', 'mix_asym']: \n",
    "    y, ys, x, u = sim_data(N, beta, sigma, error_type) # change parameters to change amount of truncation \n",
    "    fig=plt.hist(u, bins=100)\n",
    "    plt.title(error_type)\n",
    "    plt.show()\n",
    "    res=tobit(y,x, deriv=1);\n"
   ]
  },
  {
   "cell_type": "markdown",
   "metadata": {
    "slideshow": {
     "slide_type": "slide"
    }
   },
   "source": [
    "# Concluding remarks"
   ]
  },
  {
   "cell_type": "markdown",
   "metadata": {
    "slideshow": {
     "slide_type": "slide"
    }
   },
   "source": [
    "## Concluding remarks\n",
    "\n",
    "- The tobit model offers an **appropriate specification** \n",
    "for **censored variables**.\n",
    "- Its relies on **strong distributional assumptions** for **consistency** of MLE.\n",
    "- **Extensions** are possible, such as **double-censoring**:\n",
    "$$y_i = \\begin{cases}\n",
    "\\tau_0 & \\text{if $y_i^\\star \\leq \\tau_0$} \\\\\n",
    "y_i^\\star & \\text{if $\\tau_0 < y_i^\\star \\leq \\tau_1$} \\\\\n",
    "\\tau_1 & \\text{if $\\tau_1 < y_i^\\star$}\n",
    "\\end{cases}$$\n",
    "- *[Exercise: Derive the log-likelihood of this double-censored model. \n",
    "How to identify $\\tau_0$ and $\\tau_1$?]*\n",
    "- **Semi-parametric approaches** that relax the distributional assumptions\n",
    "are possible."
   ]
  }
 ],
 "metadata": {
  "celltoolbar": "Slideshow",
  "date": 1602643870.398518,
  "filename": "38_optimization.rst",
  "kernelspec": {
   "display_name": "Python 3",
   "language": "python",
   "name": "python3"
  },
  "language_info": {
   "codemirror_mode": {
    "name": "ipython",
    "version": 3
   },
   "file_extension": ".py",
   "mimetype": "text/x-python",
   "name": "python",
   "nbconvert_exporter": "python",
   "pygments_lexer": "ipython3",
   "version": "3.8.6"
  },
  "title": "Econometrics B #13"
 },
 "nbformat": 4,
 "nbformat_minor": 4
}
